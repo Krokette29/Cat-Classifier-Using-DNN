{
 "cells": [
  {
   "cell_type": "markdown",
   "metadata": {},
   "source": [
    "# 1. Packages"
   ]
  },
  {
   "cell_type": "code",
   "execution_count": 1,
   "metadata": {},
   "outputs": [],
   "source": [
    "'''\n",
    "numpy - scientific computing with Python\n",
    "matplotlib - plot graphs in Python\n",
    "h5py - interact with a dataset that is stored on an H5 file\n",
    "'''\n",
    "import numpy as np\n",
    "import matplotlib.pyplot as plt\n",
    "plt.rcParams['figure.figsize'] = (5.0, 4.0) # set default size of plots\n",
    "plt.rcParams['image.interpolation'] = 'nearest'\n",
    "plt.rcParams['image.cmap'] = 'gray'\n",
    "import h5py\n",
    "\n",
    "# sklearn provides simple and efficient tools for data mining and data analysis.\n",
    "import sklearn\n",
    "import sklearn.datasets\n",
    "import sklearn.linear_model\n",
    "\n",
    "%matplotlib inline\n",
    "\n",
    "%load_ext autoreload\n",
    "%autoreload 2"
   ]
  },
  {
   "cell_type": "markdown",
   "metadata": {},
   "source": [
    "# 2. Data Loading and Preprocess"
   ]
  },
  {
   "cell_type": "code",
   "execution_count": 2,
   "metadata": {},
   "outputs": [
    {
     "name": "stdout",
     "output_type": "stream",
     "text": [
      "y = [0], it's a 'non-cat' picture.\n"
     ]
    },
    {
     "data": {
      "image/png": "[encoded data removed]",
      "text/plain": [
       "<Figure size 432x288 with 1 Axes>"
      ]
     },
     "metadata": {
      "needs_background": "light"
     },
     "output_type": "display_data"
    }
   ],
   "source": [
    "# Load dataset\n",
    "def load_data():\n",
    "    train_dataset = h5py.File('datasets/train_catvnoncat.h5', \"r\")\n",
    "    train_set_x_orig = np.array(train_dataset[\"train_set_x\"][:]) # your train set features\n",
    "    train_set_y_orig = np.array(train_dataset[\"train_set_y\"][:]) # your train set labels\n",
    "\n",
    "    test_dataset = h5py.File('datasets/test_catvnoncat.h5', \"r\")\n",
    "    test_set_x_orig = np.array(test_dataset[\"test_set_x\"][:]) # your test set features\n",
    "    test_set_y_orig = np.array(test_dataset[\"test_set_y\"][:]) # your test set labels\n",
    "\n",
    "    classes = np.array(test_dataset[\"list_classes\"][:]) # the list of classes\n",
    "    \n",
    "    train_set_y_orig = train_set_y_orig.reshape((1, train_set_y_orig.shape[0]))\n",
    "    test_set_y_orig = test_set_y_orig.reshape((1, test_set_y_orig.shape[0]))\n",
    "    \n",
    "    return train_set_x_orig, train_set_y_orig, test_set_x_orig, test_set_y_orig, classes\n",
    "\n",
    "# Loading the data (cat/non-cat)\n",
    "train_set_x_orig, train_set_y, test_set_x_orig, test_set_y, classes = load_data()\n",
    "\n",
    "# Example of a picture\n",
    "index = 23\n",
    "plt.imshow(train_set_x_orig[index])\n",
    "print(\"y = \" + str(train_set_y[:, index]) + \", it's a '\" + classes[np.squeeze(train_set_y[:, index])].decode(\"utf-8\") + \"' picture.\")"
   ]
  },
  {
   "cell_type": "code",
   "execution_count": 3,
   "metadata": {},
   "outputs": [
    {
     "name": "stdout",
     "output_type": "stream",
     "text": [
      "train_set_x_orig shape: (209, 64, 64, 3)\n",
      "train_set_y shape: (1, 209)\n",
      "test_set_x_orig shape: (50, 64, 64, 3)\n",
      "test_set_y shape: (1, 50)\n",
      "classes shape: (2,)\n"
     ]
    }
   ],
   "source": [
    "# Print the sizes of data\n",
    "print(\"train_set_x_orig shape: \" + str(train_set_x_orig.shape))\n",
    "print(\"train_set_y shape: \" + str(train_set_y.shape))\n",
    "print(\"test_set_x_orig shape: \" + str(test_set_x_orig.shape))\n",
    "print(\"test_set_y shape: \" + str(test_set_y.shape))\n",
    "print(\"classes shape: \" + str(classes.shape))"
   ]
  },
  {
   "cell_type": "code",
   "execution_count": 4,
   "metadata": {},
   "outputs": [
    {
     "name": "stdout",
     "output_type": "stream",
     "text": [
      "train_set_x_flatten shape: (12288, 209)\n",
      "test_set_x_flatten shape: (12288, 50)\n"
     ]
    }
   ],
   "source": [
    "# Reshape the training and test examples\n",
    "train_set_x_flatten = train_set_x_orig.reshape(train_set_x_orig.shape[0], -1).T\n",
    "test_set_x_flatten = test_set_x_orig.reshape(test_set_x_orig.shape[0], -1).T\n",
    "\n",
    "print(\"train_set_x_flatten shape: \" + str(train_set_x_flatten.shape))\n",
    "print(\"test_set_x_flatten shape: \" + str(test_set_x_flatten.shape))"
   ]
  },
  {
   "cell_type": "code",
   "execution_count": 5,
   "metadata": {},
   "outputs": [],
   "source": [
    "# Standardize the dataset\n",
    "train_set_x = train_set_x_flatten/255.\n",
    "test_set_x = test_set_x_flatten/255."
   ]
  },
  {
   "cell_type": "markdown",
   "metadata": {},
   "source": [
    "# 3. Building Deep Neural Network"
   ]
  },
  {
   "cell_type": "markdown",
   "metadata": {},
   "source": [
    "## 3.1 Initialization"
   ]
  },
  {
   "cell_type": "code",
   "execution_count": 6,
   "metadata": {},
   "outputs": [],
   "source": [
    "def initialize_parameters(layer_dims):\n",
    "    \"\"\"\n",
    "    Arguments:\n",
    "    layer_dims -- python list containing the dimensions of each layer\n",
    "    \n",
    "    Returns:\n",
    "    parameters -- python dictionary containing parameters 'W1', 'b1', ..., 'WL', 'bL'\n",
    "                    Wl -- weight matrix of shape (layer_dims[l], layer_dims[l-1])\n",
    "                    bl -- bias vector of shape (layer_dims[l], 1)\n",
    "    \"\"\"\n",
    "    \n",
    "    parameters = {}\n",
    "    L = len(layer_dims) # number of layers, including input layer\n",
    "    \n",
    "    for l in range(1, L):\n",
    "        parameters['W' + str(l)] = np.random.randn(layer_dims[l], layer_dims[l-1]) / np.sqrt(layer_dims[l-1])\n",
    "        parameters['b' + str(l)] = np.zeros((layer_dims[l], 1))\n",
    "        \n",
    "        assert(parameters['W' + str(l)].shape == (layer_dims[l], layer_dims[l-1]))\n",
    "        assert(parameters['b' + str(l)].shape == (layer_dims[l], 1))\n",
    "        \n",
    "    return parameters"
   ]
  },
  {
   "cell_type": "markdown",
   "metadata": {},
   "source": [
    "## 3.2 Forward Propagation"
   ]
  },
  {
   "cell_type": "code",
   "execution_count": 7,
   "metadata": {},
   "outputs": [],
   "source": [
    "def linear_activation_forward(A_prev, W, b, activation):\n",
    "    \"\"\"\n",
    "    Forward propagation of one layer, including linear and activation.\n",
    "    \n",
    "    Arguments:\n",
    "    A_prev -- activations of previous layer (or dataset) of shape (size of previous layer, number of examples)\n",
    "    W -- weights matrix of shape (size of current layer, size of previous layer)\n",
    "    b -- bias vector of shape (size of current layer, 1)\n",
    "    activation -- text string, \"sigmoid\" or \"relu\"\n",
    "    \n",
    "    Returns:\n",
    "    A -- activation values of shape (size of current layer, number of examples)\n",
    "    cache -- tuple containing A_prev, Z, W and b\n",
    "    \"\"\"\n",
    "    \n",
    "    Z = np.dot(W, A_prev) + b\n",
    "    \n",
    "    if activation == \"sigmoid\":\n",
    "        A = 1 / (1 + np.exp(-Z))\n",
    "    \n",
    "    elif activation == \"relu\":\n",
    "        A = np.maximum(0, Z)\n",
    "        \n",
    "    assert(Z.shape == (W.shape[0], A.shape[1]))\n",
    "    assert (A.shape == (W.shape[0], A_prev.shape[1]))\n",
    "    cache = (A_prev, Z, W, b)\n",
    "\n",
    "    return A, cache\n",
    "\n",
    "\n",
    "def forward_propagation(X, parameters):\n",
    "    \"\"\"\n",
    "    Total forward propagation including [LINEAR -> RELU]*(L-1) -> [LINEAR -> SIGMOID].\n",
    "    \n",
    "    Arguments:\n",
    "    X -- the input dataset of size (size of input layer, number of examples)\n",
    "    parameters -- dictionary containing Wl and bl\n",
    "    \n",
    "    Returns:\n",
    "    AL -- last post-activation value of shape (size of output layer, number of examples)\n",
    "    caches -- list of all cache of each layer, indexed from 0 to L-1, total length of L\n",
    "    \"\"\"\n",
    "    \n",
    "    caches = []\n",
    "    A = X\n",
    "    L = len(parameters) // 2\n",
    "    \n",
    "    # Implement [LINEAR -> RELU]*(L-1)\n",
    "    for l in range(1, L):\n",
    "        A_prev = A\n",
    "        A, cache = linear_activation_forward(A_prev, parameters['W' + str(l)], parameters['b' + str(l)], \"relu\")\n",
    "        caches.append(cache)\n",
    "    \n",
    "    # Implement [LINEAR -> SIGMOID]\n",
    "    AL, cache = linear_activation_forward(A, parameters['W' + str(L)], parameters['b' + str(L)], \"sigmoid\")\n",
    "    caches.append(cache)\n",
    "    \n",
    "    assert(AL.shape == (1, X.shape[1]))\n",
    "    \n",
    "    return AL, caches"
   ]
  },
  {
   "cell_type": "markdown",
   "metadata": {},
   "source": [
    "## 3.3 Cost Function"
   ]
  },
  {
   "cell_type": "code",
   "execution_count": 8,
   "metadata": {},
   "outputs": [],
   "source": [
    "def compute_cost(AL, Y):\n",
    "    \"\"\"\n",
    "    Arguments:\n",
    "    AL -- last post-activation value of shape (1, number of examples)\n",
    "    Y -- true 'label' vector of shape (1, number of examples)\n",
    "    \n",
    "    Returns:\n",
    "    cost -- cross-entropy cost\n",
    "    \"\"\"\n",
    "    \n",
    "    m = Y.shape[1]\n",
    "    cost = -1/m * (np.dot(Y, np.log(AL.T)) + np.dot(1 - Y, np.log(1 - AL.T)))\n",
    "    \n",
    "    cost = np.squeeze(cost)\n",
    "    assert(cost.shape == ())\n",
    "    \n",
    "    return cost"
   ]
  },
  {
   "cell_type": "markdown",
   "metadata": {},
   "source": [
    "## 3.4 Backward Propagation"
   ]
  },
  {
   "cell_type": "code",
   "execution_count": 9,
   "metadata": {},
   "outputs": [],
   "source": [
    "def linear_activation_backward(dA, cache, activation):\n",
    "    \"\"\"\n",
    "    Backward propagation of one layer.\n",
    "    \n",
    "    Arguments:\n",
    "    dA -- post-activation gradient for current layer, shape (size of current layer, number of examples)\n",
    "    cache -- tuple containing A_prev, Z, W and b\n",
    "    activation -- \"sigmoid\" or \"relu\"\n",
    "    \n",
    "    Returns:\n",
    "    dA_prev -- post-activation gradient for previous layer, shape (size of previous layer, number of examples)\n",
    "    dW -- weights gradients of shape (size of current layer, size of previous layer)\n",
    "    db -- bias gradient of shape (size of current layer, 1)\n",
    "    \"\"\"\n",
    "\n",
    "    A_prev, Z, W, b = cache # unpack cache to A_prev, Z, W, b\n",
    "    m = dA.shape[1]\n",
    "    \n",
    "    # Calculate dZ\n",
    "    if activation == \"sigmoid\":\n",
    "        s = 1/(1+np.exp(-Z))\n",
    "        dZ = dA * s * (1-s)\n",
    "    \n",
    "    elif activation == \"relu\":\n",
    "        dZ = np.array(dA, copy=True)\n",
    "        dZ[Z <= 0] = 0\n",
    "    \n",
    "    # Calculate dW, db and dA_prev\n",
    "    dW = 1/m * np.dot(dZ, A_prev.T)\n",
    "    db = 1/m * np.sum(dZ, axis=1, keepdims=1)\n",
    "    dA_prev = np.dot(W.T, dZ)\n",
    "    \n",
    "    assert (dA_prev.shape == A_prev.shape)\n",
    "    assert (dW.shape == W.shape)\n",
    "    assert (db.shape == b.shape)\n",
    "    \n",
    "    return dA_prev, dW, db\n",
    "    \n",
    "\n",
    "def backward_propagation(AL, Y, caches):\n",
    "    \"\"\"\n",
    "    Arguments:\n",
    "    AL -- last post-activation value of shape (1, number of examples)\n",
    "    Y -- true 'label' vector of shape (1, number of examples)\n",
    "    caches -- list of all cache of every layer\n",
    "    \n",
    "    Returns:\n",
    "    grads -- dictionary containing dA, dW, db of all layers\n",
    "    \"\"\"\n",
    "    \n",
    "    grads = {}\n",
    "    L = len(caches)\n",
    "    m = AL.shape[1]\n",
    "    \n",
    "    # Calculate dAL\n",
    "    grads[\"dA\" + str(L)] = - (np.divide(Y, AL) - np.divide(1 - Y, 1 - AL))\n",
    "    \n",
    "    # Output layer\n",
    "    grads[\"dA\" + str(L-1)], grads[\"dW\" + str(L)], grads[\"db\" + str(L)] = linear_activation_backward(grads[\"dA\" + str(L)], caches[L-1], \"sigmoid\")\n",
    "    \n",
    "    # Other layers, from l = L-2 to 0\n",
    "    for l in reversed(range(L-1)):\n",
    "        grads[\"dA\" + str(l)], grads[\"dW\" + str(l+1)], grads[\"db\" + str(l+1)] = linear_activation_backward(grads[\"dA\" + str(l+1)], caches[l], \"relu\")\n",
    "    \n",
    "    return grads"
   ]
  },
  {
   "cell_type": "markdown",
   "metadata": {},
   "source": [
    "## 3.5 Update Parameters"
   ]
  },
  {
   "cell_type": "code",
   "execution_count": 10,
   "metadata": {},
   "outputs": [],
   "source": [
    "def update_parameters(parameters, grads, learning_rate):\n",
    "    \"\"\"\n",
    "    Arguments:\n",
    "    parameters -- dictionary of original W and b of all layers\n",
    "    grads -- dictionary of dA, dW and db of all layers\n",
    "    learning_rate -- scalar\n",
    "    \n",
    "    Returns:\n",
    "    parameters -- dictionary of updated W and b of all layers\n",
    "    \"\"\"\n",
    "    \n",
    "    L = len(parameters) // 2\n",
    "    for l in range(1, L+1):\n",
    "        parameters['W' + str(l)] = parameters['W' + str(l)] - learning_rate * grads['dW' + str(l)]\n",
    "        parameters['b' + str(l)] = parameters['b' + str(l)] - learning_rate * grads['db' + str(l)]\n",
    "        \n",
    "    return parameters"
   ]
  },
  {
   "cell_type": "markdown",
   "metadata": {},
   "source": [
    "## 3.6 Prediction"
   ]
  },
  {
   "cell_type": "code",
   "execution_count": 11,
   "metadata": {},
   "outputs": [],
   "source": [
    "def predict(X, y, parameters):\n",
    "    \"\"\"\n",
    "    This function is used to predict the results of a  L-layer neural network.\n",
    "    \n",
    "    Arguments:\n",
    "    X -- data set of examples you would like to label\n",
    "    y -- true \"label\" vector\n",
    "    parameters -- parameters of the trained model\n",
    "    \n",
    "    Returns:\n",
    "    p -- predictions for the given dataset X\n",
    "    \"\"\"\n",
    "    \n",
    "    m = X.shape[1]\n",
    "    n = len(parameters) // 2 # number of layers in the neural network\n",
    "    p = np.zeros((1,m))\n",
    "    \n",
    "    # Forward propagation\n",
    "    probas, caches = forward_propagation(X, parameters)\n",
    "\n",
    "    # convert probas to 0/1 predictions\n",
    "    for i in range(0, probas.shape[1]):\n",
    "        if probas[0,i] > 0.5:\n",
    "            p[0,i] = 1\n",
    "        else:\n",
    "            p[0,i] = 0\n",
    "    \n",
    "    # Print results\n",
    "#     print (\"predictions: \" + str(p))\n",
    "#     print (\"true labels: \" + str(y))\n",
    "#     print(\"Accuracy: \"  + str(np.sum((p == y)/m)))\n",
    "        \n",
    "    return p"
   ]
  },
  {
   "cell_type": "markdown",
   "metadata": {},
   "source": [
    "# 4. Set up DNN for the Classifier\n",
    "Merge all the helper functions above to a model."
   ]
  },
  {
   "cell_type": "code",
   "execution_count": 12,
   "metadata": {},
   "outputs": [],
   "source": [
    "def DNN_model(X, Y, test_X, test_Y, layers_dims, learning_rate = 0.0075, num_iterations = 3000, print_cost = False):\n",
    "    \"\"\"\n",
    "    Combine all the steps into one model.\n",
    "    \n",
    "    Arguments:\n",
    "    X -- data of shape (num_px * num_px * num_px, number of examples)\n",
    "    Y -- true \"label\" vector of shape (1, number of examples)\n",
    "    layers_dims -- list containing the dimensions of all layers, including input layer\n",
    "    learning_rate -- learning rate of the gradient descent\n",
    "    num_iterations -- number of iterations of optimization loops\n",
    "    print_cost -- if True, prints the cost every 100 steps\n",
    "    \n",
    "    Returns:\n",
    "    parameters -- parameters learnt by the model, which can be used for prediction\n",
    "    \"\"\"\n",
    "    \n",
    "    # Keep track of costs and predictions\n",
    "    costs = []\n",
    "    preds_train = []\n",
    "    preds_test = []\n",
    "    \n",
    "    m_train = X.shape[1]\n",
    "    m_test = test_X.shape[1]\n",
    "    \n",
    "    # Initialize parameters\n",
    "    parameters = initialize_parameters(layers_dims)\n",
    "    \n",
    "    # Gradient descent loop\n",
    "    for i in range(num_iterations):\n",
    "        # Forward propagation\n",
    "        AL, caches = forward_propagation(X, parameters)\n",
    "        \n",
    "        # Compute cost\n",
    "        cost = compute_cost(AL, Y)\n",
    "        \n",
    "        # Backward propagation\n",
    "        grads = backward_propagation(AL, Y, caches)\n",
    "        \n",
    "        # Update parameters\n",
    "        parameters = update_parameters(parameters, grads, learning_rate)\n",
    "        \n",
    "        # Print the cost every 100 training example\n",
    "        if print_cost and i % 100 == 0:\n",
    "            print (\"Cost after iteration %i: %f\" %(i, cost))\n",
    "            costs.append(cost)\n",
    "            \n",
    "            pred_train = predict(X, Y, parameters)\n",
    "            preds_train.append(np.sum((pred_train == Y)/m_train))\n",
    "            print(\"Accuracy of train set: \"  + str(np.sum((pred_train == Y)/m_train)))\n",
    "            \n",
    "            pred_test = predict(test_X, test_Y, parameters)\n",
    "            preds_test.append(np.sum((pred_test == test_Y)/m_test))\n",
    "            print(\"Accuracy of test set: \"  + str(np.sum((pred_test == test_Y)/m_test)))\n",
    "            print('\\n')\n",
    "    \n",
    "    # plot the cost\n",
    "    plt.plot(np.squeeze(costs))\n",
    "    plt.ylabel('cost')\n",
    "    plt.xlabel('iterations (per hundreds)')\n",
    "    plt.title(\"Cost\")\n",
    "    plt.show()\n",
    "    \n",
    "    # plot the prediction of train\n",
    "    plt.plot(np.squeeze(preds_train))\n",
    "    plt.ylabel('predictions accuracy of training set')\n",
    "    plt.xlabel('iterations (per hundreds)')\n",
    "    plt.title(\"Prediction Accuracy of Training Set\")\n",
    "    plt.show()\n",
    "    \n",
    "    # plot the prediction of test\n",
    "    plt.plot(np.squeeze(preds_test))\n",
    "    plt.ylabel('predictions accuracy of test set')\n",
    "    plt.xlabel('iterations (per hundreds)')\n",
    "    plt.title(\"Prediction Accuracy of Test Set\")\n",
    "    plt.show()\n",
    "    \n",
    "    return parameters"
   ]
  },
  {
   "cell_type": "markdown",
   "metadata": {},
   "source": [
    "# 5. Training"
   ]
  },
  {
   "cell_type": "code",
   "execution_count": 13,
   "metadata": {},
   "outputs": [
    {
     "name": "stdout",
     "output_type": "stream",
     "text": [
      "Cost after iteration 0: 0.691780\n",
      "Accuracy of train set: 0.6028708133971292\n",
      "Accuracy of test set: 0.36\n",
      "\n",
      "\n",
      "Cost after iteration 100: 0.617515\n",
      "Accuracy of train set: 0.6602870813397128\n",
      "Accuracy of test set: 0.3400000000000001\n",
      "\n",
      "\n",
      "Cost after iteration 200: 0.541338\n",
      "Accuracy of train set: 0.7607655502392343\n",
      "Accuracy of test set: 0.4600000000000001\n",
      "\n",
      "\n",
      "Cost after iteration 300: 0.513013\n",
      "Accuracy of train set: 0.8755980861244017\n",
      "Accuracy of test set: 0.7200000000000001\n",
      "\n",
      "\n",
      "Cost after iteration 400: 0.483223\n",
      "Accuracy of train set: 0.8564593301435405\n",
      "Accuracy of test set: 0.78\n",
      "\n",
      "\n",
      "Cost after iteration 500: 0.445304\n",
      "Accuracy of train set: 0.8708133971291865\n",
      "Accuracy of test set: 0.8\n",
      "\n",
      "\n",
      "Cost after iteration 600: 0.415484\n",
      "Accuracy of train set: 0.8708133971291865\n",
      "Accuracy of test set: 0.8\n",
      "\n",
      "\n",
      "Cost after iteration 700: 0.379265\n",
      "Accuracy of train set: 0.8708133971291865\n",
      "Accuracy of test set: 0.8\n",
      "\n",
      "\n",
      "Cost after iteration 800: 0.318354\n",
      "Accuracy of train set: 0.8995215311004783\n",
      "Accuracy of test set: 0.8\n",
      "\n",
      "\n",
      "Cost after iteration 900: 0.304705\n",
      "Accuracy of train set: 0.880382775119617\n",
      "Accuracy of test set: 0.8\n",
      "\n",
      "\n",
      "Cost after iteration 1000: 0.559422\n",
      "Accuracy of train set: 0.8660287081339711\n",
      "Accuracy of test set: 0.78\n",
      "\n",
      "\n",
      "Cost after iteration 1100: 0.110420\n",
      "Accuracy of train set: 0.9665071770334925\n",
      "Accuracy of test set: 0.7600000000000001\n",
      "\n",
      "\n",
      "Cost after iteration 1200: 0.084344\n",
      "Accuracy of train set: 0.9760765550239232\n",
      "Accuracy of test set: 0.7600000000000001\n",
      "\n",
      "\n",
      "Cost after iteration 1300: 0.066510\n",
      "Accuracy of train set: 0.9760765550239232\n",
      "Accuracy of test set: 0.7400000000000001\n",
      "\n",
      "\n",
      "Cost after iteration 1400: 0.042513\n",
      "Accuracy of train set: 0.9904306220095691\n",
      "Accuracy of test set: 0.76\n",
      "\n",
      "\n",
      "Cost after iteration 1500: 0.032811\n",
      "Accuracy of train set: 0.9952153110047844\n",
      "Accuracy of test set: 0.74\n",
      "\n",
      "\n",
      "Cost after iteration 1600: 0.026330\n",
      "Accuracy of train set: 0.9952153110047844\n",
      "Accuracy of test set: 0.74\n",
      "\n",
      "\n",
      "Cost after iteration 1700: 0.021689\n",
      "Accuracy of train set: 0.9952153110047844\n",
      "Accuracy of test set: 0.74\n",
      "\n",
      "\n",
      "Cost after iteration 1800: 0.018097\n",
      "Accuracy of train set: 0.9952153110047844\n",
      "Accuracy of test set: 0.74\n",
      "\n",
      "\n",
      "Cost after iteration 1900: 0.014754\n",
      "Accuracy of train set: 0.9952153110047844\n",
      "Accuracy of test set: 0.76\n",
      "\n",
      "\n",
      "Cost after iteration 2000: 0.012081\n",
      "Accuracy of train set: 0.9999999999999998\n",
      "Accuracy of test set: 0.76\n",
      "\n",
      "\n",
      "Cost after iteration 2100: 0.010627\n",
      "Accuracy of train set: 0.9999999999999998\n",
      "Accuracy of test set: 0.74\n",
      "\n",
      "\n",
      "Cost after iteration 2200: 0.009534\n",
      "Accuracy of train set: 0.9999999999999998\n",
      "Accuracy of test set: 0.74\n",
      "\n",
      "\n",
      "Cost after iteration 2300: 0.008681\n",
      "Accuracy of train set: 0.9999999999999998\n",
      "Accuracy of test set: 0.74\n",
      "\n",
      "\n",
      "Cost after iteration 2400: 0.007984\n",
      "Accuracy of train set: 0.9999999999999998\n",
      "Accuracy of test set: 0.74\n",
      "\n",
      "\n",
      "Cost after iteration 2500: 0.007398\n",
      "Accuracy of train set: 0.9999999999999998\n",
      "Accuracy of test set: 0.72\n",
      "\n",
      "\n",
      "Cost after iteration 2600: 0.006921\n",
      "Accuracy of train set: 0.9999999999999998\n",
      "Accuracy of test set: 0.72\n",
      "\n",
      "\n",
      "Cost after iteration 2700: 0.006513\n",
      "Accuracy of train set: 0.9999999999999998\n",
      "Accuracy of test set: 0.72\n",
      "\n",
      "\n",
      "Cost after iteration 2800: 0.006165\n",
      "Accuracy of train set: 0.9999999999999998\n",
      "Accuracy of test set: 0.72\n",
      "\n",
      "\n",
      "Cost after iteration 2900: 0.005869\n",
      "Accuracy of train set: 0.9999999999999998\n",
      "Accuracy of test set: 0.72\n",
      "\n",
      "\n"
     ]
    },
    {
     "data": {
      "image/png": "[encoded data removed]",
      "text/plain": [
       "<Figure size 432x288 with 1 Axes>"
      ]
     },
     "metadata": {
      "needs_background": "light"
     },
     "output_type": "display_data"
    },
    {
     "data": {
      "image/png": "[encoded data removed]",
      "text/plain": [
       "<Figure size 432x288 with 1 Axes>"
      ]
     },
     "metadata": {
      "needs_background": "light"
     },
     "output_type": "display_data"
    },
    {
     "data": {
      "image/png": "[encoded data removed]",
      "text/plain": [
       "<Figure size 432x288 with 1 Axes>"
      ]
     },
     "metadata": {
      "needs_background": "light"
     },
     "output_type": "display_data"
    }
   ],
   "source": [
    "# DNN dimensions\n",
    "layers_dims = [12288, 20, 7, 5, 1] # 4-layer model\n",
    "\n",
    "parameters = DNN_model(train_set_x, train_set_y, test_set_x, test_set_y, layers_dims, learning_rate = 0.0075, num_iterations = 3000, print_cost = True)"
   ]
  }
 ],
 "metadata": {
  "kernelspec": {
   "display_name": "Python 3",
   "language": "python",
   "name": "python3"
  },
  "language_info": {
   "codemirror_mode": {
    "name": "ipython",
    "version": 3
   },
   "file_extension": ".py",
   "mimetype": "text/x-python",
   "name": "python",
   "nbconvert_exporter": "python",
   "pygments_lexer": "ipython3",
   "version": "3.7.1"
  }
 },
 "nbformat": 4,
 "nbformat_minor": 2
}
