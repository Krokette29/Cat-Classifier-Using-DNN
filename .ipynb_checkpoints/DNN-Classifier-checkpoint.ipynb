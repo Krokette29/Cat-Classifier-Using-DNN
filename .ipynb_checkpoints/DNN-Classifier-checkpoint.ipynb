{
 "cells": [
  {
   "cell_type": "markdown",
   "metadata": {},
   "source": [
    "# 1. Packages"
   ]
  },
  {
   "cell_type": "code",
   "execution_count": 10,
   "metadata": {},
   "outputs": [],
   "source": [
    "'''\n",
    "numpy - scientific computing with Python\n",
    "matplotlib - plot graphs in Python\n",
    "h5py - interact with a dataset that is stored on an H5 file\n",
    "'''\n",
    "import numpy as np\n",
    "import matplotlib.pyplot as plt\n",
    "# plt.rcParams['figure.figsize'] = (5.0, 4.0) # set default size of plots\n",
    "# plt.rcParams['image.interpolation'] = 'nearest'\n",
    "# plt.rcParams['image.cmap'] = 'gray'\n",
    "import h5py\n",
    "\n",
    "# sklearn provides simple and efficient tools for data mining and data analysis.\n",
    "import sklearn\n",
    "import sklearn.datasets\n",
    "import sklearn.linear_model\n",
    "\n",
    "from dnn_utils_v2 import sigmoid, sigmoid_backward, relu, relu_backward\n",
    "\n",
    "%matplotlib inline\n",
    "\n",
    "# for test\n",
    "np.random.seed(1)\n",
    "from testCases_v4 import *"
   ]
  },
  {
   "cell_type": "markdown",
   "metadata": {},
   "source": [
    "# Building Deep Neural Network"
   ]
  },
  {
   "cell_type": "markdown",
   "metadata": {},
   "source": [
    "## Initialization"
   ]
  },
  {
   "cell_type": "code",
   "execution_count": 7,
   "metadata": {},
   "outputs": [],
   "source": [
    "def initialize_parameters(layer_dims):\n",
    "    \"\"\"\n",
    "    Arguments:\n",
    "    layer_dims -- python list containing the dimensions of each layer\n",
    "    \n",
    "    Returns:\n",
    "    parameters -- python dictionary containing parameters 'W1', 'b1', ..., 'WL', 'bL'\n",
    "                    Wl -- weight matrix of shape (layer_dims[l], layer_dims[l-1])\n",
    "                    bl -- bias vector of shape (layer_dims[l], 1)\n",
    "    \"\"\"\n",
    "    \n",
    "    np.random.seed(3)\n",
    "    \n",
    "    parameters = {}\n",
    "    L = len(layer_dims) # number of layers, including input layer\n",
    "    \n",
    "    for l in range(1, L):\n",
    "        parameters['W' + str(l)] = np.random.randn(layer_dims[l], layer_dims[l-1]) * 0.01\n",
    "        parameters['b' + str(l)] = np.zeros((layer_dims[l], 1))\n",
    "        \n",
    "    return parameters"
   ]
  },
  {
   "cell_type": "markdown",
   "metadata": {},
   "source": [
    "## Forward Propagation"
   ]
  },
  {
   "cell_type": "code",
   "execution_count": 14,
   "metadata": {},
   "outputs": [],
   "source": [
    "def linear_activation_forward(A_prev, W, b, activation):\n",
    "    \"\"\"\n",
    "    Forward propagation of one layer, including linear and activation.\n",
    "    \n",
    "    Arguments:\n",
    "    A_prev -- activations of previous layer (or dataset) of shape (size of previous layer, number of examples)\n",
    "    W -- weights matrix of shape (size of current layer, size of previous layer)\n",
    "    b -- bias vector of shape (size of current layer, 1)\n",
    "    activation -- text string, \"sigmoid\" or \"relu\"\n",
    "    \n",
    "    Returns:\n",
    "    A -- activation values of shape (size of current layer, number of examples)\n",
    "    cache -- tuple containing A, Z, W and b\n",
    "    \"\"\"\n",
    "    \n",
    "    Z = np.dot(W, A_prev) + b\n",
    "    \n",
    "    if activation == \"sigmoid\":\n",
    "        A = 1 / (1 + np.exp(-Z))\n",
    "    \n",
    "    elif activation == \"relu\":\n",
    "        A = np.maximum(0, Z)\n",
    "    \n",
    "    cache = (A, Z, W, b)\n",
    "    return A, cache\n",
    "\n",
    "\n",
    "def forward_propagation(X, parameters):\n",
    "    \"\"\"\n",
    "    Total forward propagation including [LINEAR -> RELU]*(L-1) -> [LINEAR -> SIGMOID].\n",
    "    \n",
    "    Arguments:\n",
    "    X -- the input dataset of size (size of input layer, number of examples)\n",
    "    parameters -- dictionary containing Wl and bl\n",
    "    \n",
    "    Returns:\n",
    "    AL -- last post-activation value of shape (size of output layer, number of examples)\n",
    "    caches -- list of all cache of each layer, indexed from 0 to L-1, total length of L\n",
    "    \"\"\"\n",
    "    \n",
    "    caches = []\n",
    "    A = X\n",
    "    L = len(parameters) // 2\n",
    "    \n",
    "    # Implement [LINEAR -> RELU]*(L-1)\n",
    "    for l in range(1, L):\n",
    "        A_prev = A\n",
    "        A, cache = linear_activation_forward(A_prev, parameters['W' + str(l)], parameters['b' + str(l)], \"relu\")\n",
    "        caches.append(cache)\n",
    "    \n",
    "    # Implement [LINEAR -> SIGMOID]\n",
    "    AL, cache = linear_activation_forward(A, parameters['W' + str(L)], parameters['b' + str(L)], \"sigmoid\")\n",
    "    caches.append(cache)\n",
    "    \n",
    "    return AL, caches"
   ]
  },
  {
   "cell_type": "code",
   "execution_count": null,
   "metadata": {},
   "outputs": [],
   "source": []
  }
 ],
 "metadata": {
  "kernelspec": {
   "display_name": "Python 3",
   "language": "python",
   "name": "python3"
  },
  "language_info": {
   "codemirror_mode": {
    "name": "ipython",
    "version": 3
   },
   "file_extension": ".py",
   "mimetype": "text/x-python",
   "name": "python",
   "nbconvert_exporter": "python",
   "pygments_lexer": "ipython3",
   "version": "3.7.1"
  }
 },
 "nbformat": 4,
 "nbformat_minor": 2
}
